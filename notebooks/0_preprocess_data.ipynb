{
 "cells": [
  {
   "cell_type": "code",
   "execution_count": 5,
   "id": "3ab536b9-a79d-428b-a955-e981168d4cb7",
   "metadata": {},
   "outputs": [],
   "source": [
    "import pandas as pd\n",
    "import geopandas as gpd\n",
    "from shapely.wkt import loads"
   ]
  },
  {
   "cell_type": "markdown",
   "id": "11e0a650-2fe9-4707-b2c1-3a9de4fd8f8d",
   "metadata": {},
   "source": [
    "### Load data"
   ]
  },
  {
   "cell_type": "code",
   "execution_count": 6,
   "id": "23a49d0d-aabd-43e8-8889-05547678c812",
   "metadata": {},
   "outputs": [],
   "source": [
    "#### LOAD DATA DIRECTLY #####\n",
    "from google.cloud import bigquery\n",
    "client = bigquery.Client()\n",
    "table_id = \"wsdemo-457314.ais.shadowtankers\"\n",
    "query = f\"SELECT * FROM `{table_id}`\"\n",
    "df = client.query(query).to_dataframe()\n",
    "df.to_csv(\"../data/shadowtankers.csv\", index=False)"
   ]
  },
  {
   "cell_type": "code",
   "execution_count": 7,
   "id": "4dbd9af7-86c1-46b1-9f84-2ebb2e205074",
   "metadata": {},
   "outputs": [],
   "source": [
    "##### LOAD DATA FROM CSV #####\n",
    "df = pd.read_csv(\"../data/shadowtankers.csv\")"
   ]
  },
  {
   "cell_type": "markdown",
   "id": "23b8bfa0-2453-48d2-a37a-aa6c1f57d85b",
   "metadata": {},
   "source": [
    "### Initial data exploration"
   ]
  },
  {
   "cell_type": "code",
   "execution_count": 9,
   "id": "808202ef-1cb5-4696-91b4-7cff083b8b04",
   "metadata": {},
   "outputs": [
    {
     "name": "stdout",
     "output_type": "stream",
     "text": [
      "<class 'pandas.core.frame.DataFrame'>\n",
      "RangeIndex: 539456 entries, 0 to 539455\n",
      "Data columns (total 27 columns):\n",
      " #   Column             Non-Null Count   Dtype  \n",
      "---  ------             --------------   -----  \n",
      " 0   mmsi               539456 non-null  int64  \n",
      " 1   imo                539456 non-null  int64  \n",
      " 2   vessel_name        539456 non-null  object \n",
      " 3   callsign           539456 non-null  object \n",
      " 4   vessel_type        539456 non-null  object \n",
      " 5   vessel_class       535283 non-null  object \n",
      " 6   length             539456 non-null  int64  \n",
      " 7   width              539456 non-null  int64  \n",
      " 8   flag_country       539456 non-null  object \n",
      " 9   destination        539256 non-null  object \n",
      " 10  lat                539456 non-null  float64\n",
      " 11  lon                539456 non-null  float64\n",
      " 12  sog                539456 non-null  int64  \n",
      " 13  cog                539456 non-null  float64\n",
      " 14  rot                539456 non-null  int64  \n",
      " 15  heading            539456 non-null  int64  \n",
      " 16  nav_status         539456 non-null  object \n",
      " 17  source             539456 non-null  object \n",
      " 18  position_accuracy  539452 non-null  object \n",
      " 19  dt                 539456 non-null  object \n",
      " 20  geometry           539456 non-null  object \n",
      " 21  h3_lv5             539456 non-null  object \n",
      " 22  h3_lv6             539456 non-null  object \n",
      " 23  h3_lv7             539456 non-null  object \n",
      " 24  h3_lv2             539456 non-null  object \n",
      " 25  h3_lv3             539456 non-null  object \n",
      " 26  h3_lv4             539456 non-null  object \n",
      "dtypes: float64(3), int64(7), object(17)\n",
      "memory usage: 111.1+ MB\n"
     ]
    }
   ],
   "source": [
    "df.info()"
   ]
  },
  {
   "cell_type": "markdown",
   "id": "3db8929c-edda-4266-af36-94b2468df088",
   "metadata": {},
   "source": [
    "#### Is each IMO associated with just one MMSI (and vice versa)?"
   ]
  },
  {
   "cell_type": "code",
   "execution_count": 10,
   "id": "0c86cdf1-ca5e-4a49-90d6-e3d8405705dc",
   "metadata": {},
   "outputs": [
    {
     "name": "stdout",
     "output_type": "stream",
     "text": [
      "No, there is not a 1:1 match between imo and mmsi.\n"
     ]
    }
   ],
   "source": [
    "# Check for 1:1 match for imo to mmsi\n",
    "imo_to_mmsi_unique = df.groupby('imo')['mmsi'].nunique()\n",
    "mmsi_to_imo_unique = df.groupby('mmsi')['imo'].nunique()\n",
    "\n",
    "# Determine if there are any imo with multiple mmsi or vice versa\n",
    "is_imo_to_mmsi_one_to_one = (imo_to_mmsi_unique.max() == 1)\n",
    "is_mmsi_to_imo_one_to_one = (mmsi_to_imo_unique.max() == 1)\n",
    "\n",
    "# Final result\n",
    "if is_imo_to_mmsi_one_to_one and is_mmsi_to_imo_one_to_one:\n",
    "    print(\"Yes, there is a 1:1 match between imo and mmsi.\")\n",
    "else:\n",
    "    print(\"No, there is not a 1:1 match between imo and mmsi.\")"
   ]
  },
  {
   "cell_type": "code",
   "execution_count": 6,
   "id": "5d39fb69-8854-4dc6-97f8-136eb3306a0a",
   "metadata": {},
   "outputs": [],
   "source": [
    "###### SCRATCH ########"
   ]
  },
  {
   "cell_type": "code",
   "execution_count": 7,
   "id": "102fef15-ca98-4302-8f32-324e4bc8b8ac",
   "metadata": {},
   "outputs": [],
   "source": [
    "df_moving = df[df['sog']!=0].copy()"
   ]
  },
  {
   "cell_type": "code",
   "execution_count": 8,
   "id": "fe508787-ca30-4c83-89aa-6d51e34be3c7",
   "metadata": {},
   "outputs": [
    {
     "data": {
      "text/html": [
       "<div>\n",
       "<style scoped>\n",
       "    .dataframe tbody tr th:only-of-type {\n",
       "        vertical-align: middle;\n",
       "    }\n",
       "\n",
       "    .dataframe tbody tr th {\n",
       "        vertical-align: top;\n",
       "    }\n",
       "\n",
       "    .dataframe thead th {\n",
       "        text-align: right;\n",
       "    }\n",
       "</style>\n",
       "<table border=\"1\" class=\"dataframe\">\n",
       "  <thead>\n",
       "    <tr style=\"text-align: right;\">\n",
       "      <th></th>\n",
       "      <th>mmsi</th>\n",
       "      <th>imo</th>\n",
       "      <th>vessel_name</th>\n",
       "      <th>callsign</th>\n",
       "      <th>vessel_type</th>\n",
       "      <th>vessel_class</th>\n",
       "      <th>length</th>\n",
       "      <th>width</th>\n",
       "      <th>flag_country</th>\n",
       "      <th>destination</th>\n",
       "      <th>...</th>\n",
       "      <th>lon</th>\n",
       "      <th>sog</th>\n",
       "      <th>cog</th>\n",
       "      <th>rot</th>\n",
       "      <th>heading</th>\n",
       "      <th>nav_status</th>\n",
       "      <th>source</th>\n",
       "      <th>position_accuracy</th>\n",
       "      <th>dt</th>\n",
       "      <th>geometry</th>\n",
       "    </tr>\n",
       "  </thead>\n",
       "  <tbody>\n",
       "    <tr>\n",
       "      <th>222</th>\n",
       "      <td>304868000</td>\n",
       "      <td>9236353</td>\n",
       "      <td>BLUE</td>\n",
       "      <td>V2YM7</td>\n",
       "      <td>TANKER_CRUDE</td>\n",
       "      <td>A</td>\n",
       "      <td>274</td>\n",
       "      <td>50</td>\n",
       "      <td>Antigua and Barbuda</td>\n",
       "      <td>25TURK.3SECGUARDS</td>\n",
       "      <td>...</td>\n",
       "      <td>52.84034</td>\n",
       "      <td>13</td>\n",
       "      <td>73.1</td>\n",
       "      <td>0</td>\n",
       "      <td>76</td>\n",
       "      <td>Under Way Using Engine</td>\n",
       "      <td>V-AIS</td>\n",
       "      <td>HIGH</td>\n",
       "      <td>2024-04-29 17:11:38+00:00</td>\n",
       "      <td>POINT (52.84034 14.28468)</td>\n",
       "    </tr>\n",
       "    <tr>\n",
       "      <th>224</th>\n",
       "      <td>304868000</td>\n",
       "      <td>9236353</td>\n",
       "      <td>BLUE</td>\n",
       "      <td>V2YM7</td>\n",
       "      <td>TANKER_CRUDE</td>\n",
       "      <td>A</td>\n",
       "      <td>274</td>\n",
       "      <td>50</td>\n",
       "      <td>Antigua and Barbuda</td>\n",
       "      <td>25TURK.3SECGUARDS</td>\n",
       "      <td>...</td>\n",
       "      <td>49.62179</td>\n",
       "      <td>12</td>\n",
       "      <td>70.2</td>\n",
       "      <td>0</td>\n",
       "      <td>73</td>\n",
       "      <td>Under Way Using Engine</td>\n",
       "      <td>V-AIS</td>\n",
       "      <td>HIGH</td>\n",
       "      <td>2024-04-29 01:15:33+00:00</td>\n",
       "      <td>POINT (49.62179 13.28817)</td>\n",
       "    </tr>\n",
       "  </tbody>\n",
       "</table>\n",
       "<p>2 rows × 21 columns</p>\n",
       "</div>"
      ],
      "text/plain": [
       "          mmsi      imo vessel_name callsign   vessel_type vessel_class  \\\n",
       "222  304868000  9236353        BLUE    V2YM7  TANKER_CRUDE            A   \n",
       "224  304868000  9236353        BLUE    V2YM7  TANKER_CRUDE            A   \n",
       "\n",
       "     length  width         flag_country        destination  ...       lon  \\\n",
       "222     274     50  Antigua and Barbuda  25TURK.3SECGUARDS  ...  52.84034   \n",
       "224     274     50  Antigua and Barbuda  25TURK.3SECGUARDS  ...  49.62179   \n",
       "\n",
       "     sog   cog  rot  heading              nav_status source position_accuracy  \\\n",
       "222   13  73.1    0       76  Under Way Using Engine  V-AIS              HIGH   \n",
       "224   12  70.2    0       73  Under Way Using Engine  V-AIS              HIGH   \n",
       "\n",
       "                           dt                   geometry  \n",
       "222 2024-04-29 17:11:38+00:00  POINT (52.84034 14.28468)  \n",
       "224 2024-04-29 01:15:33+00:00  POINT (49.62179 13.28817)  \n",
       "\n",
       "[2 rows x 21 columns]"
      ]
     },
     "execution_count": 8,
     "metadata": {},
     "output_type": "execute_result"
    }
   ],
   "source": [
    "df_moving['dt'] = pd.to_datetime(df_moving['dt'], format=\"mixed\")\n",
    "df_moving['geometry'] = df_moving['geometry'].apply(loads)\n",
    "gdf_moving = gpd.GeoDataFrame(df_moving, geometry='geometry')\n",
    "gdf_moving.set_crs(epsg=4326, inplace=True)\n",
    "gdf_moving.head(2)"
   ]
  },
  {
   "cell_type": "code",
   "execution_count": null,
   "id": "6ee9a416-c9ea-4a6f-89ca-6d6491b29d26",
   "metadata": {},
   "outputs": [],
   "source": [
    "# Step 1: Define parameters for proximity\n",
    "MAX_DISTANCE = 0.01  # in degrees (~111 meters per degree at the equator, adjust as needed)\n",
    "MAX_TIME_DIFF = pd.Timedelta(minutes=10)\n",
    "\n",
    "# Step 2: Perform pairwise comparisons\n",
    "close_instances = []\n",
    "\n",
    "for i, row1 in df_moving.iterrows():\n",
    "    for j, row2 in df_moving.iterrows():\n",
    "        if i >= j:  # Avoid duplicate comparisons and self-comparison\n",
    "            continue\n",
    "        # Check spatial proximity\n",
    "        spatial_proximity = row1['geometry'].distance(row2['geometry']) <= MAX_DISTANCE\n",
    "        \n",
    "        # Check temporal proximity\n",
    "        temporal_proximity = abs(row1['dt'] - row2['dt']) <= MAX_TIME_DIFF\n",
    "        \n",
    "        if spatial_proximity and temporal_proximity:\n",
    "            # Record the pair of vessels and additional data\n",
    "            close_instances.append({\n",
    "                'vessel_1': row1['mmsi'],\n",
    "                'vessel_2': row2['mmsi'],\n",
    "                'time_1': row1['dt'],\n",
    "                'time_2': row2['dt'],\n",
    "                'distance': row1['geometry'].distance(row2['geometry']),\n",
    "                'time_diff': abs(row1['dt'] - row2['dt'])\n",
    "            })\n",
    "\n",
    "# Step 3: Convert to DataFrame\n",
    "close_df = pd.DataFrame(close_instances)\n",
    "\n",
    "# Step 4: Filter for extended periods\n",
    "# Group by vessel pairs and calculate the total duration\n",
    "close_df['pair'] = close_df.apply(lambda x: frozenset((x['vessel_1'], x['vessel_2'])), axis=1)\n",
    "extended_periods = close_df.groupby('pair').filter(lambda x: len(x) > 1)  # Adjust 'len(x)' as needed"
   ]
  },
  {
   "cell_type": "code",
   "execution_count": null,
   "id": "5c1bbb6c-2e6a-4950-b822-3116ce65ff26",
   "metadata": {},
   "outputs": [],
   "source": []
  }
 ],
 "metadata": {
  "kernelspec": {
   "display_name": "Python 3 (ipykernel)",
   "language": "python",
   "name": "python3"
  },
  "language_info": {
   "codemirror_mode": {
    "name": "ipython",
    "version": 3
   },
   "file_extension": ".py",
   "mimetype": "text/x-python",
   "name": "python",
   "nbconvert_exporter": "python",
   "pygments_lexer": "ipython3",
   "version": "3.10.17"
  }
 },
 "nbformat": 4,
 "nbformat_minor": 5
}
