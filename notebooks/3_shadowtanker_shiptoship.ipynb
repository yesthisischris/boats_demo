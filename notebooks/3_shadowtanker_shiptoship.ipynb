{
 "cells": [
  {
   "cell_type": "code",
   "execution_count": null,
   "id": "3ab536b9-a79d-428b-a955-e981168d4cb7",
   "metadata": {},
   "outputs": [],
   "source": [
    "import pandas as pd\n",
    "import os\n",
    "import sys\n",
    "from datetime import timedelta\n",
    "import geopandas as gpd\n",
    "from shapely import wkt\n",
    "import matplotlib.pyplot as plt\n",
    "\n",
    "script_path = os.path.abspath(os.path.join(\"..\", \"scripts\"))\n",
    "sys.path.append(script_path)\n",
    "\n",
    "import analysis_functions\n",
    "import plot_functions"
   ]
  },
  {
   "cell_type": "markdown",
   "id": "11e0a650-2fe9-4707-b2c1-3a9de4fd8f8d",
   "metadata": {},
   "source": [
    "### Load data"
   ]
  },
  {
   "cell_type": "code",
   "execution_count": null,
   "id": "4dbd9af7-86c1-46b1-9f84-2ebb2e205074",
   "metadata": {},
   "outputs": [],
   "source": [
    "##### LOAD DATA FROM CSV #####\n",
    "df = pd.read_csv(\"../data/shadowtankers.csv\")\n",
    "df['dt']= pd.to_datetime(df['dt'], format=\"mixed\")"
   ]
  },
  {
   "cell_type": "markdown",
   "id": "3db8929c-edda-4266-af36-94b2468df088",
   "metadata": {},
   "source": [
    "### Detect possible ship to ship transfers"
   ]
  },
  {
   "cell_type": "code",
   "execution_count": null,
   "id": "102fef15-ca98-4302-8f32-324e4bc8b8ac",
   "metadata": {},
   "outputs": [],
   "source": [
    "## Note: Illicit ship-to-ship transfers occur close at low speeds\n",
    "## Source: https://pmc.ncbi.nlm.nih.gov/articles/PMC9785623/\n",
    "\n",
    "# Filter to moving vessels\n",
    "df_moving = df[df['sog']!=0].copy()\n",
    "\n",
    "# Prep data\n",
    "df_moving['dt']= pd.to_datetime(df_moving['dt'], format=\"mixed\")"
   ]
  },
  {
   "cell_type": "code",
   "execution_count": null,
   "id": "6ee9a416-c9ea-4a6f-89ca-6d6491b29d26",
   "metadata": {},
   "outputs": [],
   "source": [
    "coloc_df = analysis_functions.compute_colocations(df_moving, h3_col='h3_lv7', time_buffer_hours=1)"
   ]
  },
  {
   "cell_type": "code",
   "execution_count": null,
   "id": "5c1bbb6c-2e6a-4950-b822-3116ce65ff26",
   "metadata": {
    "scrolled": true
   },
   "outputs": [],
   "source": [
    "coloc_df"
   ]
  },
  {
   "cell_type": "code",
   "execution_count": null,
   "id": "304014e8-ccea-4b4b-9595-05b2be2567e1",
   "metadata": {},
   "outputs": [],
   "source": [
    "coloc_df.to_csv(\"../products/3_shiptoship/possible_shadowtanker_shiptoship_events.csv\",index=False)"
   ]
  },
  {
   "cell_type": "markdown",
   "id": "668a629f-ff32-4adf-a0d1-3e4d39811201",
   "metadata": {},
   "source": [
    "### Generate vignettes"
   ]
  },
  {
   "cell_type": "code",
   "execution_count": null,
   "id": "2744bcf8-74ca-406a-9e2f-a02052fa6875",
   "metadata": {},
   "outputs": [],
   "source": [
    "df['geometry'] = df['geometry'].apply(wkt.loads)\n",
    "df = df[df['geometry'].apply(lambda geom: geom.is_valid if geom else False)]\n",
    "gdf = gpd.GeoDataFrame(df, geometry='geometry', crs=\"EPSG:4326\")"
   ]
  },
  {
   "cell_type": "code",
   "execution_count": null,
   "id": "b3e6f4ec-7433-4620-bf43-26328e4f9244",
   "metadata": {},
   "outputs": [],
   "source": [
    "for i in range(0,coloc_df.shape[0]):\n",
    "    vignette_row = coloc_df.iloc[i]\n",
    "    mmsi_list = [vignette_row[\"vessel_1\"], vignette_row[\"vessel_2\"]]\n",
    "    \n",
    "    start_time = vignette_row[\"start\"]-timedelta(hours=1)\n",
    "    end_time = vignette_row[\"end\"]+timedelta(hours=1)\n",
    "    \n",
    "    # Generate the vignette plot using the full GeoDataFrame (vessel_gdf)\n",
    "    fig, ax = plot_functions.generate_vignette_plot(gdf, mmsi_list, start_time, end_time, buffer_hrs=1)\n",
    "    plt.title(f\"Shadow Tankers Possible STS: MMSI {mmsi_list[0]} & {mmsi_list[1]}\")\n",
    "    plt.gcf().canvas.draw_idle()\n",
    "    plt.savefig(f\"../products/3_shiptoship/shadowtankers_shiptoship_vignette_{i+1}.jpg\", dpi=100)"
   ]
  }
 ],
 "metadata": {
  "kernelspec": {
   "display_name": "Python 3 (ipykernel)",
   "language": "python",
   "name": "python3"
  },
  "language_info": {
   "codemirror_mode": {
    "name": "ipython",
    "version": 3
   },
   "file_extension": ".py",
   "mimetype": "text/x-python",
   "name": "python",
   "nbconvert_exporter": "python",
   "pygments_lexer": "ipython3",
   "version": "3.10.17"
  }
 },
 "nbformat": 4,
 "nbformat_minor": 5
}
