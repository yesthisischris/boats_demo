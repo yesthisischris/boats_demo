{
 "cells": [
  {
   "cell_type": "code",
   "execution_count": null,
   "id": "5e318117-3023-47b5-b297-a475a8620474",
   "metadata": {},
   "outputs": [],
   "source": [
    "import pandas as pd\n",
    "import os\n",
    "import sys\n",
    "import matplotlib.pyplot as plt\n",
    "from shapely import wkt\n",
    "import geopandas as gpd\n",
    "from datetime import timedelta\n",
    "\n",
    "script_path = os.path.abspath(os.path.join(\"..\", \"scripts\"))\n",
    "sys.path.append(script_path)\n",
    "\n",
    "import plot_functions"
   ]
  },
  {
   "cell_type": "markdown",
   "id": "af4ebfe9-f853-4283-94cf-f4d8a265da1d",
   "metadata": {},
   "source": [
    "### Load data"
   ]
  },
  {
   "cell_type": "code",
   "execution_count": null,
   "id": "9fc515e9-89a2-41f0-8627-8b2eb7c6fafe",
   "metadata": {},
   "outputs": [],
   "source": [
    "# # #### LOAD DATA DIRECTLY #####\n",
    "# from google.cloud import bigquery\n",
    "# client = bigquery.Client()\n",
    "# table_id = \"wsdemo-457314.ais.shadowtankers_anomalies\"\n",
    "# query = f\"\"\"SELECT * FROM {table_id}\"\"\"\n",
    "# df = client.query(query).to_dataframe()\n",
    "# df = df.drop_duplicates(subset=['mmsi', 'dt'])\n",
    "# df.to_csv(\"../data/amomalous_pings.csv\", index=False)"
   ]
  },
  {
   "cell_type": "code",
   "execution_count": null,
   "id": "bb9dfcfd-8ef6-4ee4-a1cb-c1e4ce72d31a",
   "metadata": {},
   "outputs": [],
   "source": [
    "# Load from CSV\n",
    "df = pd.read_csv(\"../data/amomalous_pings.csv\")\n",
    "df['dt'] = pd.to_datetime(df['dt'])\n",
    "df = df.sort_values(by=['mmsi', 'dt'])\n",
    "\n",
    "# load full shadowtanker set\n",
    "full_df = pd.read_csv(\"../data/shadowtankers.csv\")\n",
    "full_df['dt'] = pd.to_datetime(full_df['dt'],format='mixed')"
   ]
  },
  {
   "cell_type": "markdown",
   "id": "20242e55-46cb-46e6-9f44-8b600ddf6853",
   "metadata": {},
   "source": [
    "### Aggregate anomalous activity"
   ]
  },
  {
   "cell_type": "code",
   "execution_count": null,
   "id": "d483012e-18c8-4cc8-9a77-2aae8c4debb6",
   "metadata": {},
   "outputs": [],
   "source": [
    "time_window = '2h'\n",
    "\n",
    "# Group rows of the same mmsi within the time window\n",
    "df['time_group'] = df.groupby('mmsi')['dt'].transform(\n",
    "    lambda x: x.diff().gt(pd.Timedelta(time_window)).cumsum()\n",
    ")\n",
    "\n",
    "# Aggregate the data\n",
    "agg = df\n",
    "agg['anomalous_pings']=1\n",
    "agg = df.groupby(['mmsi', 'time_group']).agg(\n",
    "    dt_start=('dt', 'min'),  # Start time of the group\n",
    "    dt_end=('dt', 'max'),    # End time of the group\n",
    "    h3_lv5=('h3_lv5','first'),\n",
    "    anomalous_pings=('anomalous_pings', 'sum'),\n",
    "    normalized_distance_sum=('normalized_distance', 'median'),\n",
    "    normalized_distance_median=('normalized_distance', 'median') \n",
    ").sort_values('anomalous_pings', ascending=False).reset_index()"
   ]
  },
  {
   "cell_type": "code",
   "execution_count": null,
   "id": "19ce71b7-1693-4a8f-ba2f-5466e63af005",
   "metadata": {},
   "outputs": [],
   "source": [
    "agg.to_csv(\"../products/4_anomalousactivity/anomalous_activity.csv\", index=False)"
   ]
  },
  {
   "cell_type": "markdown",
   "id": "2f79ce1d-6947-479e-b053-fc7d255d3d13",
   "metadata": {},
   "source": [
    "### Generate anomalous_activity_heatmap"
   ]
  },
  {
   "cell_type": "code",
   "execution_count": null,
   "id": "2d53e751-190b-44b5-a1d3-e2473ad884cb",
   "metadata": {},
   "outputs": [],
   "source": [
    "h3_agg = df.groupby(['h3_lv5']).agg(anomalous_pings=('anomalous_pings','sum'),\n",
    "                                   normalized_distance_sum=('normalized_distance', 'sum')\n",
    "                                  ).reset_index()"
   ]
  },
  {
   "cell_type": "code",
   "execution_count": null,
   "id": "b2c747b5-6e76-4ac9-9986-f2eed26ca15f",
   "metadata": {},
   "outputs": [],
   "source": [
    "fig, ax = plot_functions.plot_h3_heatmap(\n",
    "    df= h3_agg,\n",
    "    h3_column=\"h3_lv5\",\n",
    "    heatmap_column=\"normalized_distance_sum\",\n",
    "    use_parent_level=3\n",
    ")\n",
    "\n",
    "plt.title(\"Shadow Tanker Anomalous Activity Heatmap\")\n",
    "plt.gcf().canvas.draw_idle()\n",
    "plt.savefig(\"../products/4_anomalousactivity/shadowtanker_anomalous_activity_heatmap.jpg\", dpi=100)\n",
    "#bbox_inches=\"tight\""
   ]
  },
  {
   "cell_type": "markdown",
   "id": "8d396b68-8bbb-4837-b4cf-1cd17685c060",
   "metadata": {},
   "source": [
    "### Generate Vignette Plots"
   ]
  },
  {
   "cell_type": "code",
   "execution_count": null,
   "id": "ed4d42a3-c92b-4ef6-afc4-0f8cb6607bdf",
   "metadata": {},
   "outputs": [],
   "source": [
    "full_df['geometry'] = full_df['geometry'].apply(wkt.loads)\n",
    "full_df = full_df[full_df['geometry'].apply(lambda geom: geom.is_valid if geom else False)]\n",
    "gdf = gpd.GeoDataFrame(full_df, geometry='geometry', crs=\"EPSG:4326\")"
   ]
  },
  {
   "cell_type": "code",
   "execution_count": null,
   "id": "371d11d7-3e1a-4323-ae3e-a0b9a3f11a0a",
   "metadata": {},
   "outputs": [],
   "source": [
    "for i in range(0,4):\n",
    "    vignette_row = agg.iloc[i]\n",
    "    mmsi_list = [vignette_row[\"mmsi\"]]\n",
    "    start_time = vignette_row[\"dt_start\"]-timedelta(hours=1)\n",
    "    end_time = vignette_row[\"dt_end\"]+timedelta(hours=1) \n",
    "    # Generate the vignette plot using the full GeoDataFrame (vessel_gdf)\n",
    "    fig, ax = plot_functions.generate_vignette_plot(gdf, mmsi_list, start_time, end_time, buffer_hrs=1)\n",
    "    plt.title(f\"Anomalous Activity: MMSI {mmsi_list[0]}\")\n",
    "    plt.gcf().canvas.draw_idle()\n",
    "    plt.savefig(f\"../products/4_anomalousactivity/anomalous_activity_vignette_mmsi_{mmsi_list[0]}.jpg\", dpi=100)"
   ]
  }
 ],
 "metadata": {
  "kernelspec": {
   "display_name": "Python 3 (ipykernel)",
   "language": "python",
   "name": "python3"
  },
  "language_info": {
   "codemirror_mode": {
    "name": "ipython",
    "version": 3
   },
   "file_extension": ".py",
   "mimetype": "text/x-python",
   "name": "python",
   "nbconvert_exporter": "python",
   "pygments_lexer": "ipython3",
   "version": "3.10.17"
  }
 },
 "nbformat": 4,
 "nbformat_minor": 5
}
