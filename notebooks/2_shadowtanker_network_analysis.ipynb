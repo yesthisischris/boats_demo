{
 "cells": [
  {
   "cell_type": "code",
   "execution_count": null,
   "id": "5e318117-3023-47b5-b297-a475a8620474",
   "metadata": {},
   "outputs": [],
   "source": [
    "import pandas as pd"
   ]
  },
  {
   "cell_type": "markdown",
   "id": "af4ebfe9-f853-4283-94cf-f4d8a265da1d",
   "metadata": {},
   "source": [
    "### Load data"
   ]
  },
  {
   "cell_type": "code",
   "execution_count": null,
   "id": "9fc515e9-89a2-41f0-8627-8b2eb7c6fafe",
   "metadata": {},
   "outputs": [],
   "source": [
    "# #### LOAD DATA DIRECTLY #####\n",
    "# from google.cloud import bigquery\n",
    "# client = bigquery.Client()\n",
    "# table_id = \"wsdemo-457314.ais.shadowtanker_ship_associations\"\n",
    "# query = f\"\"\"SELECT * FROM {table_id}\"\"\"\n",
    "# df = client.query(query).to_dataframe()\n",
    "# df['association_score'] = df['co_occurrence_count'] / df['co_occurrence_count'].max()\n",
    "# df.to_csv(\"../data/shadowtanker_associations.csv\", index=False)"
   ]
  },
  {
   "cell_type": "code",
   "execution_count": null,
   "id": "8125d1f1-d4bb-4ebd-b899-82c0f067b8da",
   "metadata": {},
   "outputs": [],
   "source": [
    "df = pd.read_csv(\"../data/shadowtanker_associations.csv\", usecols=[\"mmsi1\",\"mmsi2\",\"association_score\"])\n",
    "shadowtanker_mmsi_set = set(pd.read_csv(\"../data/shadowtankers.csv\", usecols=[\"mmsi\"])[\"mmsi\"])"
   ]
  },
  {
   "cell_type": "markdown",
   "id": "8d396b68-8bbb-4837-b4cf-1cd17685c060",
   "metadata": {},
   "source": [
    "### Identify new vessels and get total shadow vessel association score"
   ]
  },
  {
   "cell_type": "code",
   "execution_count": null,
   "id": "3f0a28f0-1d57-4cc4-8187-efe138f46d92",
   "metadata": {},
   "outputs": [],
   "source": [
    "# save out network associations\n",
    "df.sort_values(by='association_score', ascending=False).to_csv('../products/2_networkanalysis/shadow_tanker_network_data.csv', index=False)"
   ]
  },
  {
   "cell_type": "code",
   "execution_count": null,
   "id": "4d9eac45-4832-4684-8bc3-4caf403d220e",
   "metadata": {},
   "outputs": [],
   "source": [
    "newships = set(df['mmsi1']).union(set(df['mmsi2'])) - shadowtanker_mmsi_set\n",
    "\n",
    "# Calculate total association score for each new vessel\n",
    "total_association_scores = (\n",
    "    pd.concat([\n",
    "        filtered_df[['mmsi1', 'association_score']].rename(columns={'mmsi1': 'mmsi'}),\n",
    "        filtered_df[['mmsi2', 'association_score']].rename(columns={'mmsi2': 'mmsi'})\n",
    "    ])\n",
    "    .groupby('mmsi')['association_score'].sum()\n",
    ")\n",
    "\n",
    "normalized_association_scores_df = (\n",
    "    total_association_scores / total_association_scores.max()\n",
    ").reset_index()\n",
    "normalized_association_scores_df.columns = ['mmsi', 'total_association_score']\n",
    "normalized_association_scores_df = normalized_association_scores_df.sort_values(by='total_association_score', ascending=False)\n",
    "normalized_association_scores_df.to_csv('../products/2_networkanalysis/newly_discovered_vessels.csv', index=False)"
   ]
  },
  {
   "cell_type": "markdown",
   "id": "c52c5997-3eb6-49ad-b7f1-63d1478fd065",
   "metadata": {},
   "source": [
    "### Create Network diagram"
   ]
  },
  {
   "cell_type": "code",
   "execution_count": null,
   "id": "fcd48180-554f-4996-8f61-1b8de3e70a2a",
   "metadata": {},
   "outputs": [],
   "source": [
    "# Identify the 50 new vessels most closely associated with the shadowtankers\n",
    "newships_mmsi_set = set(normalized_association_scores_df.head(100)['mmsi'])"
   ]
  },
  {
   "cell_type": "code",
   "execution_count": null,
   "id": "16a713de-a134-4b35-bbff-9f1818646508",
   "metadata": {},
   "outputs": [],
   "source": [
    "import networkx as nx\n",
    "import matplotlib.pyplot as plt\n",
    "from matplotlib.patches import Patch\n",
    "from adjustText import adjust_text\n",
    "\n",
    "# Filter the DataFrame to include only rows where both mmsi1 and mmsi2 are in the combined set\n",
    "combined_mmsi_set = newships_mmsi_set.union(shadowtanker_mmsi_set)\n",
    "filtered_df = df[(df['mmsi1'].isin(combined_mmsi_set)) & (df['mmsi2'].isin(combined_mmsi_set))]\n",
    "\n",
    "# Create the graph\n",
    "G = nx.Graph()\n",
    "\n",
    "# Add edges to the graph\n",
    "for _, row in filtered_df.iterrows():\n",
    "    G.add_edge(row['mmsi1'], row['mmsi2'], weight=row['association_score'])\n",
    "\n",
    "# Assign colors to nodes based on their set\n",
    "node_colors = []\n",
    "for node in G.nodes():\n",
    "    if node in shadowtanker_mmsi_set:\n",
    "        node_colors.append('yellow')  # Shadowtankers in yellow\n",
    "    elif node in newships_mmsi_set:\n",
    "        node_colors.append('pink')  # Newships in pink\n",
    "\n",
    "# Edge size adjustment\n",
    "edge_weights = list(nx.get_edge_attributes(G, 'weight').values())\n",
    "max_weight = max(edge_weights) if edge_weights else 1  # Avoid division by zero\n",
    "normalized_weights = [weight / max_weight * 10 for weight in edge_weights] \n",
    "\n",
    "# Visualize the graph\n",
    "plt.figure(figsize=(12, 10))\n",
    "pos = nx.spring_layout(G, seed=42)\n",
    "\n",
    "# Draw nodes with their respective colors\n",
    "nx.draw_networkx_nodes(G, pos, node_size=300, node_color=node_colors)\n",
    "nx.draw_networkx_edges(G, pos, edgelist=list(nx.get_edge_attributes(G, 'weight').keys()),\n",
    "                       width=normalized_weights, alpha=0.9, edge_color='darkblue') \n",
    "\n",
    "# Add labels with adjustText to avoid overlap\n",
    "texts = []\n",
    "for node, (x, y) in pos.items():\n",
    "    texts.append(plt.text(x, y, str(int(node)), fontsize=7, fontweight='bold'))\n",
    "\n",
    "adjust_text(texts, arrowprops=dict(arrowstyle='-', color='gray', lw=0.5))  # Adjust labels to avoid overlap\n",
    "\n",
    "# Add a legend\n",
    "legend_elements = [\n",
    "    Patch(facecolor='yellow', edgecolor='black', label='Shadow tankers'),\n",
    "    Patch(facecolor='pink', edgecolor='black', label='Newly discovered vessels')\n",
    "]\n",
    "plt.legend(handles=legend_elements, loc='upper right', fontsize=10)\n",
    "\n",
    "# Title and display\n",
    "plt.title(\"Network Graph of Shadowtankers and Newly Discovered Vessels (by MMSI)\")\n",
    "plt.savefig(\"../products/2_networkanalysis/shadowtankers_network.jpg\", dpi=100, bbox_inches=\"tight\")"
   ]
  }
 ],
 "metadata": {
  "kernelspec": {
   "display_name": "Python 3 (ipykernel)",
   "language": "python",
   "name": "python3"
  },
  "language_info": {
   "codemirror_mode": {
    "name": "ipython",
    "version": 3
   },
   "file_extension": ".py",
   "mimetype": "text/x-python",
   "name": "python",
   "nbconvert_exporter": "python",
   "pygments_lexer": "ipython3",
   "version": "3.10.17"
  }
 },
 "nbformat": 4,
 "nbformat_minor": 5
}
