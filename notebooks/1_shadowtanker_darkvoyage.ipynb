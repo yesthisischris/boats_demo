{
 "cells": [
  {
   "cell_type": "code",
   "execution_count": null,
   "id": "5316c42c-51c3-486c-9415-622f783e27bb",
   "metadata": {},
   "outputs": [],
   "source": [
    "import pandas as pd\n",
    "import geopandas as gpd\n",
    "from shapely.wkt import loads\n",
    "import os\n",
    "import sys\n",
    "\n",
    "script_path = os.path.abspath(os.path.join(\"..\", \"scripts\"))\n",
    "sys.path.append(script_path)\n",
    "\n",
    "import analysis_functions\n",
    "import plot_functions"
   ]
  },
  {
   "cell_type": "markdown",
   "id": "500bb174-0beb-4f21-a057-961ea5893e73",
   "metadata": {},
   "source": [
    "### Load data"
   ]
  },
  {
   "cell_type": "code",
   "execution_count": null,
   "id": "d5c5ad41-f3bd-45e8-89f7-7044a47d8f55",
   "metadata": {},
   "outputs": [],
   "source": [
    "##### LOAD DATA FROM CSV (saved from BigQuery) #####\n",
    "df = pd.read_csv(\"../data/shadowtankers.csv\")\n",
    "df['dt'] = pd.to_datetime(df['dt'], format=\"mixed\")\n",
    "df['geometry'] = df['geometry'].apply(loads)\n",
    "gdf = gpd.GeoDataFrame(df, geometry='geometry', crs=\"EPSG:4326\")"
   ]
  },
  {
   "cell_type": "markdown",
   "id": "63122ced-cf1a-49e6-9e5d-69df38fa7a76",
   "metadata": {},
   "source": [
    "### Identify \"dark\" periods"
   ]
  },
  {
   "cell_type": "code",
   "execution_count": null,
   "id": "76ee9498-2d2e-4d23-aa03-3b740fe7aa64",
   "metadata": {},
   "outputs": [],
   "source": [
    "# Define threshold for hours dark\n",
    "dark_hours_threshold = 5"
   ]
  },
  {
   "cell_type": "code",
   "execution_count": null,
   "id": "53a8018c-e543-4fc2-bef2-2bcb8aab58e3",
   "metadata": {},
   "outputs": [],
   "source": [
    "dark_periods_df = analysis_functions.identify_dark_periods(gdf, dark_hours_threshold) "
   ]
  },
  {
   "cell_type": "code",
   "execution_count": null,
   "id": "d6eebae0-42dc-4afa-8420-1d8815d2a534",
   "metadata": {},
   "outputs": [],
   "source": [
    "dark_periods_df.head(2)"
   ]
  },
  {
   "cell_type": "code",
   "execution_count": null,
   "id": "aef24749-8f8c-45cc-a5cc-a75c5556b188",
   "metadata": {},
   "outputs": [],
   "source": [
    "# Export product\n",
    "dark_periods_df.to_csv(\"../products/1_darkvoyages/shadow_tanker_dark_periods.csv\")"
   ]
  },
  {
   "cell_type": "markdown",
   "id": "bae59c7b-74ee-4c6b-bc41-63fb0fc5db51",
   "metadata": {},
   "source": [
    "### Identify periods where two proximally-located vessels are dark simultaneously"
   ]
  },
  {
   "cell_type": "code",
   "execution_count": null,
   "id": "f433f17f-4ead-4187-816f-b1167a2776a4",
   "metadata": {},
   "outputs": [],
   "source": [
    "# Define h3 level for proximity matching (could be improved later using max ship speed)\n",
    "h3_level = 4"
   ]
  },
  {
   "cell_type": "code",
   "execution_count": null,
   "id": "8b950da9-7de6-417a-8f17-0f94b7659707",
   "metadata": {},
   "outputs": [],
   "source": [
    "proximity_df = analysis_functions.find_proximity_dark_periods(dark_periods_df, h3_level)"
   ]
  },
  {
   "cell_type": "code",
   "execution_count": null,
   "id": "06336faf-6c6c-478e-a299-8dfebcd33237",
   "metadata": {},
   "outputs": [],
   "source": [
    "proximity_df.head(2)"
   ]
  },
  {
   "cell_type": "code",
   "execution_count": null,
   "id": "6d98a3f8-615d-4e99-8f65-bd649ddb4ee9",
   "metadata": {},
   "outputs": [],
   "source": [
    "proximity_df.to_csv(\"../products/1_darkvoyages/shadow_tanker_colocated_dark_periods.csv\")"
   ]
  },
  {
   "cell_type": "markdown",
   "id": "2b513e2e-6604-43a0-aa56-9f288a0ad311",
   "metadata": {},
   "source": [
    "### Plot dark periods locations"
   ]
  },
  {
   "cell_type": "code",
   "execution_count": null,
   "id": "3830caf3-5739-4d3f-9ae0-c72cfe802a35",
   "metadata": {},
   "outputs": [],
   "source": [
    "heatmap_df = dark_periods_df.groupby('h3_lv3_start').size().reset_index(name='total_dark_periods')\n",
    "\n",
    "fig, ax = plot_functions.plot_h3_heatmap(\n",
    "    df=heatmap_df,\n",
    "    h3_column=\"h3_lv3_start\",\n",
    "    heatmap_column=\"total_dark_periods\"\n",
    ")\n",
    "\n",
    "plt.title(\"Shadow Tankers Dark Periods (>5 hrs) Heatmap\")\n",
    "plt.gcf().canvas.draw_idle()\n",
    "plt.savefig(\"../products/1_darkvoyages/shadowtankers_dark_periods_heatmap.jpg\", dpi=100, bbox_inches=\"tight\")"
   ]
  },
  {
   "cell_type": "code",
   "execution_count": null,
   "id": "449ef5b5-c0f7-460a-aa64-525e378fb1b9",
   "metadata": {},
   "outputs": [],
   "source": [
    "heatmap2_df = proximity_df.groupby('h3_end_1').size().reset_index(name='total_proximal_dark_periods')\n",
    "\n",
    "fig, ax = plot_functions.plot_h3_heatmap(\n",
    "    df=heatmap2_df,\n",
    "    h3_column=\"h3_end_1\",\n",
    "    heatmap_column=\"total_proximal_dark_periods\"\n",
    ")\n",
    "\n",
    "plt.title(\"Shadow Tankers Collocated Dark Periods Heatmap\")\n",
    "plt.gcf().canvas.draw_idle()\n",
    "plt.savefig(\"../products/1_darkvoyages/shadowtankers_colocated_dark_periods_heatmap.jpg\", dpi=100, bbox_inches=\"tight\")"
   ]
  },
  {
   "cell_type": "code",
   "execution_count": null,
   "id": "9440a783-772a-4a56-8bc7-572110b0e43b",
   "metadata": {},
   "outputs": [],
   "source": [
    "import importlib\n",
    "importlib.reload(plot_functions)"
   ]
  },
  {
   "cell_type": "markdown",
   "id": "6e380a28-665b-4408-a58e-ac6c1bf6bafc",
   "metadata": {},
   "source": [
    "### Dark colocation vignette"
   ]
  },
  {
   "cell_type": "code",
   "execution_count": null,
   "id": "d4217edc-0d38-4b40-932b-a5a6c27f9d6f",
   "metadata": {},
   "outputs": [],
   "source": [
    "vignette_row = proximity_df.iloc[58]\n",
    "mmsi_list = [vignette_row[\"mmsi_1\"], vignette_row[\"mmsi_2\"]]\n",
    "\n",
    "start_time = min(vignette_row[\"dt_start_1\"],vignette_row[\"dt_start_2\"])\n",
    "end_time = max(vignette_row[\"dt_end_1\"],vignette_row[\"dt_end_2\"])\n",
    "\n",
    "# Generate the vignette plot using the full GeoDataFrame (vessel_gdf)\n",
    "fig, ax = plot_functions.generate_vignette_plot(gdf, mmsi_list, start_time, end_time, buffer_hrs=1)\n",
    "\n",
    "plt.title(\"Shadow Tankers Colocation Vignette\")\n",
    "plt.gcf().canvas.draw_idle()\n",
    "plt.savefig(\"../products/1_darkvoyages/shadowtankers_colocation_vignette.jpg\", dpi=100, bbox_inches=\"tight\")"
   ]
  }
 ],
 "metadata": {
  "kernelspec": {
   "display_name": "Python 3 (ipykernel)",
   "language": "python",
   "name": "python3"
  },
  "language_info": {
   "codemirror_mode": {
    "name": "ipython",
    "version": 3
   },
   "file_extension": ".py",
   "mimetype": "text/x-python",
   "name": "python",
   "nbconvert_exporter": "python",
   "pygments_lexer": "ipython3",
   "version": "3.10.17"
  }
 },
 "nbformat": 4,
 "nbformat_minor": 5
}
